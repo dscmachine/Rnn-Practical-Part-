{
  "nbformat": 4,
  "nbformat_minor": 0,
  "metadata": {
    "colab": {
      "name": "Untitled15.ipynb",
      "provenance": []
    },
    "kernelspec": {
      "name": "python3",
      "display_name": "Python 3"
    },
    "language_info": {
      "name": "python"
    }
  },
  "cells": [
    {
      "cell_type": "code",
      "metadata": {
        "id": "2bz0LtrDCvOu"
      },
      "source": [
        "model =Sequenial()\n",
        "model.add(Embeddieng(input_dim,\n",
        "           output_dim,\n",
        "           embeddings_regulaizer,\n",
        "           input_length))\n",
        "\n",
        "SimpleRNN(units,\n",
        "          activation=\"tanch\",\n",
        "          use_bias=false,\n",
        "          kernal_regulizer,\n",
        "          dropout=0,0,\n",
        "          go_backwards=false)\n",
        "\n",
        "LSTM(units,\n",
        "          activation=\"tanch\",\n",
        "          use_bias=false,\n",
        "          dropout=0,0,\n",
        "          go_backwards=false)\n",
        "\n",
        "GRU(units,\n",
        "          activation=\"tanch\",\n",
        "          use_bias=false,\n",
        "          dropout=0,0,\n",
        "          go_backwards=false)\n",
        "\n",
        "model.add(Dense(15,activation='softmax'))\n"
      ],
      "execution_count": null,
      "outputs": []
    },
    {
      "cell_type": "code",
      "metadata": {
        "id": "loPe2YIMGkIV"
      },
      "source": [
        "from keras.preprocessing import sequence\n",
        "from keras.models import Sequential\n",
        "from keras.layers import Dense, Dropout, Embedding, SimpleRNN\n",
        "from keras.datasets import imdb"
      ],
      "execution_count": 1,
      "outputs": []
    },
    {
      "cell_type": "code",
      "metadata": {
        "id": "rmlJwWbjGkmu"
      },
      "source": [
        "max_features = 5000\n",
        "no_classes = 1\n",
        "max_length = 100\n",
        "batch_size = 64\n",
        "embedding_size = 64\n",
        "dropout_rate = 0.5\n",
        "hidden_layer_size = 250\n",
        "no_epochs = 5"
      ],
      "execution_count": 2,
      "outputs": []
    },
    {
      "cell_type": "code",
      "metadata": {
        "colab": {
          "base_uri": "https://localhost:8080/"
        },
        "id": "xalXZ8CGGkwY",
        "outputId": "e07bc536-a986-4154-94c1-9b0bfbb4ffb0"
      },
      "source": [
        "(x_train, y_train), (x_test, y_test) = imdb.load_data(num_words=max_features)\n",
        "print('Data loaded successfully.')\n",
        "print('# Train Data = ', len(x_train))\n",
        "print('# Test Data = ', len(x_test))"
      ],
      "execution_count": 3,
      "outputs": [
        {
          "output_type": "stream",
          "text": [
            "Downloading data from https://storage.googleapis.com/tensorflow/tf-keras-datasets/imdb.npz\n",
            "17465344/17464789 [==============================] - 0s 0us/step\n"
          ],
          "name": "stdout"
        },
        {
          "output_type": "stream",
          "text": [
            "<string>:6: VisibleDeprecationWarning: Creating an ndarray from ragged nested sequences (which is a list-or-tuple of lists-or-tuples-or ndarrays with different lengths or shapes) is deprecated. If you meant to do this, you must specify 'dtype=object' when creating the ndarray\n",
            "/usr/local/lib/python3.7/dist-packages/tensorflow/python/keras/datasets/imdb.py:159: VisibleDeprecationWarning: Creating an ndarray from ragged nested sequences (which is a list-or-tuple of lists-or-tuples-or ndarrays with different lengths or shapes) is deprecated. If you meant to do this, you must specify 'dtype=object' when creating the ndarray\n",
            "  x_train, y_train = np.array(xs[:idx]), np.array(labels[:idx])\n"
          ],
          "name": "stderr"
        },
        {
          "output_type": "stream",
          "text": [
            "Data loaded successfully.\n",
            "# Train Data =  25000\n",
            "# Test Data =  25000\n"
          ],
          "name": "stdout"
        },
        {
          "output_type": "stream",
          "text": [
            "/usr/local/lib/python3.7/dist-packages/tensorflow/python/keras/datasets/imdb.py:160: VisibleDeprecationWarning: Creating an ndarray from ragged nested sequences (which is a list-or-tuple of lists-or-tuples-or ndarrays with different lengths or shapes) is deprecated. If you meant to do this, you must specify 'dtype=object' when creating the ndarray\n",
            "  x_test, y_test = np.array(xs[idx:]), np.array(labels[idx:])\n"
          ],
          "name": "stderr"
        }
      ]
    },
    {
      "cell_type": "code",
      "metadata": {
        "id": "mmatpXUyGk4A"
      },
      "source": [
        "x_train = sequence.pad_sequences(x_train, maxlen=max_length)\n",
        "x_test = sequence.pad_sequences(x_test, maxlen=max_length)"
      ],
      "execution_count": 8,
      "outputs": []
    },
    {
      "cell_type": "code",
      "metadata": {
        "colab": {
          "base_uri": "https://localhost:8080/"
        },
        "id": "8ze9y_jymkfm",
        "outputId": "b6f5678d-4615-4b50-b758-6c4f72632cc7"
      },
      "source": [
        "y_test"
      ],
      "execution_count": 14,
      "outputs": [
        {
          "output_type": "execute_result",
          "data": {
            "text/plain": [
              "array([0, 1, 1, ..., 0, 0, 0])"
            ]
          },
          "metadata": {
            "tags": []
          },
          "execution_count": 14
        }
      ]
    },
    {
      "cell_type": "code",
      "metadata": {
        "id": "0AmN_JFQGk_W"
      },
      "source": [
        "RNN_model = Sequential()\n",
        "# Add Embedding layer\n",
        "\n",
        "RNN_model.add(Embedding(max_features, embedding_size, input_length=max_length))\n",
        "RNN_model.add(Dropout(dropout_rate))\n",
        "# Add Simple RNN layer\n",
        "\n",
        "RNN_model.add(SimpleRNN(20,activation=\"tanh\"))\n",
        "# Add Dense Hidden Layer\n",
        "\n",
        "RNN_model.add(Dense(hidden_layer_size, activation='relu'))\n",
        "\n",
        "RNN_model.add(Dropout(dropout_rate))\n",
        "\n",
        "# Output Layer \n",
        "RNN_model.add(Dense(no_classes, activation='sigmoid'))"
      ],
      "execution_count": 9,
      "outputs": []
    },
    {
      "cell_type": "code",
      "metadata": {
        "id": "JkSrosnwIF-M"
      },
      "source": [
        ""
      ],
      "execution_count": null,
      "outputs": []
    },
    {
      "cell_type": "code",
      "metadata": {
        "id": "o4ma08rVIDNi"
      },
      "source": [
        ""
      ],
      "execution_count": null,
      "outputs": []
    },
    {
      "cell_type": "code",
      "metadata": {
        "id": "1ED3WUe8GlG2"
      },
      "source": [
        "# Configure model\n",
        "RNN_model.compile(loss='binary_crossentropy', optimizer='adam', metrics=['accuracy'])"
      ],
      "execution_count": 10,
      "outputs": []
    },
    {
      "cell_type": "code",
      "metadata": {
        "colab": {
          "base_uri": "https://localhost:8080/"
        },
        "id": "VxtH1tGnGlRq",
        "outputId": "d74decec-13b1-4c7c-df03-b283508ed953"
      },
      "source": [
        "RNN_model.fit(x_train, y_train, batch_size=batch_size, verbose=2, epochs=no_epochs, validation_data=(x_test, y_test))"
      ],
      "execution_count": 11,
      "outputs": [
        {
          "output_type": "stream",
          "text": [
            "Epoch 1/5\n",
            "391/391 - 16s - loss: 0.5290 - accuracy: 0.7183 - val_loss: 0.4257 - val_accuracy: 0.8134\n",
            "Epoch 2/5\n",
            "391/391 - 14s - loss: 0.3592 - accuracy: 0.8500 - val_loss: 0.3825 - val_accuracy: 0.8342\n",
            "Epoch 3/5\n",
            "391/391 - 14s - loss: 0.3082 - accuracy: 0.8742 - val_loss: 0.3889 - val_accuracy: 0.8422\n",
            "Epoch 4/5\n",
            "391/391 - 14s - loss: 0.2678 - accuracy: 0.8944 - val_loss: 0.3942 - val_accuracy: 0.8395\n",
            "Epoch 5/5\n",
            "391/391 - 14s - loss: 0.2327 - accuracy: 0.9063 - val_loss: 0.4401 - val_accuracy: 0.8352\n"
          ],
          "name": "stdout"
        },
        {
          "output_type": "execute_result",
          "data": {
            "text/plain": [
              "<tensorflow.python.keras.callbacks.History at 0x7f7f779d3310>"
            ]
          },
          "metadata": {
            "tags": []
          },
          "execution_count": 11
        }
      ]
    }
  ]
}